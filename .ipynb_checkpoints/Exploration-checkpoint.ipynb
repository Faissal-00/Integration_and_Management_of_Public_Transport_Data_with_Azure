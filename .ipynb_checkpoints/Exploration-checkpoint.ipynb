{
 "cells": [
  {
   "cell_type": "code",
   "execution_count": 0,
   "metadata": {
    "application/vnd.databricks.v1+cell": {
     "cellMetadata": {},
     "inputWidgets": {},
     "nuid": "7c22549f-118d-4f6c-9f4a-61079fd19e8b",
     "showTitle": false,
     "title": ""
    }
   },
   "outputs": [],
   "source": [
    "import pandas as pd\n",
    "import numpy as np\n",
    "import matplotlib.pyplot as plt"
   ]
  },
  {
   "cell_type": "code",
   "execution_count": 0,
   "metadata": {
    "application/vnd.databricks.v1+cell": {
     "cellMetadata": {},
     "inputWidgets": {},
     "nuid": "ebe7ba99-d702-4646-935c-2db2788da708",
     "showTitle": false,
     "title": ""
    }
   },
   "outputs": [],
   "source": [
    "df=pd.read_csv('public-transport-data.csv',encoding='UTF-8')\n",
    "df"
   ]
  },
  {
   "cell_type": "code",
   "execution_count": 0,
   "metadata": {
    "application/vnd.databricks.v1+cell": {
     "cellMetadata": {},
     "inputWidgets": {},
     "nuid": "27f1dadb-796e-42b1-b7b8-07fe30c54905",
     "showTitle": false,
     "title": ""
    }
   },
   "outputs": [],
   "source": [
    "weathermetrics.columns"
   ]
  },
  {
   "cell_type": "code",
   "execution_count": 0,
   "metadata": {
    "application/vnd.databricks.v1+cell": {
     "cellMetadata": {},
     "inputWidgets": {},
     "nuid": "1718c9d1-e581-475d-8717-e01f209636c7",
     "showTitle": false,
     "title": ""
    }
   },
   "outputs": [],
   "source": [
    "# Check for duplicate 'ProductID' values\n",
    "duplicates = region[region.duplicated('RegionID', keep=False)]\n",
    "duplicates"
   ]
  },
  {
   "cell_type": "code",
   "execution_count": 0,
   "metadata": {
    "application/vnd.databricks.v1+cell": {
     "cellMetadata": {},
     "inputWidgets": {},
     "nuid": "6c4f6f85-2dc8-47ba-9501-2659926c4fbe",
     "showTitle": false,
     "title": ""
    }
   },
   "outputs": [],
   "source": [
    "tt = weathermetrics[weathermetrics['AverageTemperature'] <= -10]\n",
    "tt"
   ]
  },
  {
   "cell_type": "code",
   "execution_count": 0,
   "metadata": {
    "application/vnd.databricks.v1+cell": {
     "cellMetadata": {},
     "inputWidgets": {},
     "nuid": "e3edbc37-9df9-4d68-98cb-b9888fc9de3d",
     "showTitle": false,
     "title": ""
    }
   },
   "outputs": [],
   "source": [
    "weathermetrics.describe()"
   ]
  },
  {
   "cell_type": "code",
   "execution_count": 0,
   "metadata": {
    "application/vnd.databricks.v1+cell": {
     "cellMetadata": {},
     "inputWidgets": {},
     "nuid": "0379ad24-0ae8-4585-9b1d-3e5b1b770b71",
     "showTitle": false,
     "title": ""
    }
   },
   "outputs": [],
   "source": [
    "print(df.isnull().sum(axis=0))"
   ]
  },
  {
   "cell_type": "code",
   "execution_count": 0,
   "metadata": {
    "application/vnd.databricks.v1+cell": {
     "cellMetadata": {},
     "inputWidgets": {},
     "nuid": "746d00d2-9f74-4ed8-a798-ad4440cd6ac5",
     "showTitle": false,
     "title": ""
    }
   },
   "outputs": [],
   "source": [
    "# Create a condition to filter rows\n",
    "condition = (df['Age'] < 13) | (df['Age'] > 87)\n",
    "\n",
    "# Apply the condition to the DataFrame and count the rows\n",
    "count_of_rows = len(df[condition])\n",
    "\n",
    "print(\"Number of rows with age < 13 or age > 87:\", count_of_rows)"
   ]
  },
  {
   "cell_type": "code",
   "execution_count": 0,
   "metadata": {
    "application/vnd.databricks.v1+cell": {
     "cellMetadata": {},
     "inputWidgets": {},
     "nuid": "b496154b-740c-42bc-9e7f-9e912b2f70ae",
     "showTitle": false,
     "title": ""
    },
    "scrolled": false
   },
   "outputs": [],
   "source": [
    "columns=df.columns.tolist()\n",
    "df[columns[:14]]"
   ]
  },
  {
   "cell_type": "code",
   "execution_count": 0,
   "metadata": {
    "application/vnd.databricks.v1+cell": {
     "cellMetadata": {},
     "inputWidgets": {},
     "nuid": "ed46a4ff-f51b-41c4-84f9-f2b1703218f1",
     "showTitle": false,
     "title": ""
    }
   },
   "outputs": [],
   "source": [
    "import pandas as pd\n",
    "\n",
    "# Assuming you have your data loaded into a DataFrame called 'df'\n",
    "# Check for duplicate 'ProductID' values\n",
    "duplicates = df[df.duplicated('ProductID', keep=False)]\n",
    "duplicates"
   ]
  },
  {
   "cell_type": "code",
   "execution_count": 0,
   "metadata": {
    "application/vnd.databricks.v1+cell": {
     "cellMetadata": {},
     "inputWidgets": {},
     "nuid": "19f0bd16-0f67-4c6d-aaf5-283fa4475e59",
     "showTitle": false,
     "title": ""
    }
   },
   "outputs": [],
   "source": [
    "com = df['ProductID'].nunique()\n",
    "com"
   ]
  },
  {
   "cell_type": "code",
   "execution_count": 0,
   "metadata": {
    "application/vnd.databricks.v1+cell": {
     "cellMetadata": {},
     "inputWidgets": {},
     "nuid": "ee8ed33f-1ebe-44ea-8c54-745698325abf",
     "showTitle": false,
     "title": ""
    }
   },
   "outputs": [],
   "source": [
    "uni = df.groupby('ProductID')['Price'].unique()\n",
    "uni"
   ]
  },
  {
   "cell_type": "code",
   "execution_count": 0,
   "metadata": {
    "application/vnd.databricks.v1+cell": {
     "cellMetadata": {},
     "inputWidgets": {},
     "nuid": "70590c09-ecd6-4cae-bb67-4d738b904741",
     "showTitle": false,
     "title": ""
    }
   },
   "outputs": [],
   "source": [
    "uni = df.groupby('WarehouseID')['InventoryID'].unique()\n",
    "uni"
   ]
  },
  {
   "cell_type": "code",
   "execution_count": 0,
   "metadata": {
    "application/vnd.databricks.v1+cell": {
     "cellMetadata": {},
     "inputWidgets": {},
     "nuid": "0ce83eca-b104-49ae-9bfd-61f77c6a62ff",
     "showTitle": false,
     "title": ""
    }
   },
   "outputs": [],
   "source": [
    "uni = df.groupby('WarehouseID')['InventoryID'].unique()\n",
    "uni"
   ]
  },
  {
   "cell_type": "code",
   "execution_count": 0,
   "metadata": {
    "application/vnd.databricks.v1+cell": {
     "cellMetadata": {},
     "inputWidgets": {},
     "nuid": "851bb221-79cd-46fc-8c56-ebbb7159fecd",
     "showTitle": false,
     "title": ""
    }
   },
   "outputs": [],
   "source": [
    "columns=df.columns.tolist()\n",
    "df[columns[14:]]"
   ]
  },
  {
   "cell_type": "code",
   "execution_count": 0,
   "metadata": {
    "application/vnd.databricks.v1+cell": {
     "cellMetadata": {},
     "inputWidgets": {},
     "nuid": "2102a4b5-349c-44dc-b324-10aa6c3e3e84",
     "showTitle": false,
     "title": ""
    }
   },
   "outputs": [],
   "source": [
    "name = df[df['ShippingMethode'] == 'Nan']\n",
    "name"
   ]
  },
  {
   "cell_type": "code",
   "execution_count": 0,
   "metadata": {
    "application/vnd.databricks.v1+cell": {
     "cellMetadata": {},
     "inputWidgets": {},
     "nuid": "91d6fbb7-195a-4c5d-a1c7-b9deb7859cee",
     "showTitle": false,
     "title": ""
    }
   },
   "outputs": [],
   "source": [
    "unique_values_count = df['LocationWarehouse'].nunique()\n",
    "unique_values_count"
   ]
  },
  {
   "cell_type": "code",
   "execution_count": 0,
   "metadata": {
    "application/vnd.databricks.v1+cell": {
     "cellMetadata": {},
     "inputWidgets": {},
     "nuid": "f9ac55f1-de3f-4147-856d-0c828bdb6936",
     "showTitle": false,
     "title": ""
    }
   },
   "outputs": [],
   "source": [
    "duplicates = df[df['Location'].duplicated(keep=False)]\n",
    "\n",
    "duplicate_names = duplicates['Location'].unique()\n",
    "\n",
    "duplicates"
   ]
  },
  {
   "cell_type": "code",
   "execution_count": 0,
   "metadata": {
    "application/vnd.databricks.v1+cell": {
     "cellMetadata": {},
     "inputWidgets": {},
     "nuid": "45edff10-7459-4818-bc32-02ce3bf997d7",
     "showTitle": false,
     "title": ""
    }
   },
   "outputs": [],
   "source": [
    "# aa=df['UserSegment'].unique()\n",
    "# aa"
   ]
  },
  {
   "cell_type": "code",
   "execution_count": 0,
   "metadata": {
    "application/vnd.databricks.v1+cell": {
     "cellMetadata": {},
     "inputWidgets": {},
     "nuid": "7a820aa0-12f6-40ef-befc-e37a62d7d892",
     "showTitle": false,
     "title": ""
    }
   },
   "outputs": [],
   "source": [
    "# zero = df[df['Price'] == 0].shape\n",
    "# zero"
   ]
  },
  {
   "cell_type": "code",
   "execution_count": 0,
   "metadata": {
    "application/vnd.databricks.v1+cell": {
     "cellMetadata": {},
     "inputWidgets": {},
     "nuid": "38cf9fba-2449-459f-8602-528223d2135e",
     "showTitle": false,
     "title": ""
    }
   },
   "outputs": [],
   "source": [
    "# zero = df[df['Quantity'] == 0]\n",
    "# zero"
   ]
  },
  {
   "cell_type": "code",
   "execution_count": 0,
   "metadata": {
    "application/vnd.databricks.v1+cell": {
     "cellMetadata": {},
     "inputWidgets": {},
     "nuid": "9539500e-fc4f-4240-8a65-325bbaeb2ab9",
     "showTitle": false,
     "title": ""
    },
    "scrolled": false
   },
   "outputs": [],
   "source": [
    "# lap = df[df['Product Name'] == 'LaptopPro']\n",
    "# lap"
   ]
  },
  {
   "cell_type": "code",
   "execution_count": 0,
   "metadata": {
    "application/vnd.databricks.v1+cell": {
     "cellMetadata": {},
     "inputWidgets": {},
     "nuid": "4d33ba96-5f7d-4377-8c9e-accedb7939f8",
     "showTitle": false,
     "title": ""
    }
   },
   "outputs": [],
   "source": [
    "# # Sort the DataFrame by the 'Name' column\n",
    "# df_sorted = df.sort_values(by='Name')\n",
    "# df_sorted"
   ]
  },
  {
   "cell_type": "code",
   "execution_count": 0,
   "metadata": {
    "application/vnd.databricks.v1+cell": {
     "cellMetadata": {},
     "inputWidgets": {},
     "nuid": "eaa84314-f96b-4607-9cc6-fc324194d35a",
     "showTitle": false,
     "title": ""
    },
    "scrolled": false
   },
   "outputs": [],
   "source": [
    "# duplicates = df[df['Name'].duplicated(keep=False)]\n",
    "\n",
    "# duplicate_names = duplicates['Name'].unique()\n",
    "\n",
    "# filtered_rows = df[df['Name'].isin(duplicate_names)]\n",
    "\n",
    "# filtered_rows"
   ]
  },
  {
   "cell_type": "code",
   "execution_count": 0,
   "metadata": {
    "application/vnd.databricks.v1+cell": {
     "cellMetadata": {},
     "inputWidgets": {},
     "nuid": "d0c63b30-16f6-4c14-b9fd-fa25cdc22115",
     "showTitle": false,
     "title": ""
    }
   },
   "outputs": [],
   "source": [
    "# import matplotlib.pyplot as plt\n",
    "# # Replace 'Age' with the name of the column you want to check for outliers\n",
    "# column_name = 'Price'\n",
    "\n",
    "# # Create a scatter plot to visualize outliers\n",
    "# plt.figure(figsize=(8, 6))\n",
    "# plt.scatter(range(len(df[column_name])), df[column_name])\n",
    "# plt.title(f'Scatter Plot of {column_name}')\n",
    "# plt.xlabel('Index')\n",
    "# plt.ylabel(column_name)\n",
    "# plt.show()"
   ]
  },
  {
   "cell_type": "code",
   "execution_count": 0,
   "metadata": {
    "application/vnd.databricks.v1+cell": {
     "cellMetadata": {},
     "inputWidgets": {},
     "nuid": "ff115bae-97b6-41bb-8399-104b23a88147",
     "showTitle": false,
     "title": ""
    }
   },
   "outputs": [],
   "source": [
    "# filtered_rows = df[df['Age'] < 100 ]\n",
    "# filtered_rows"
   ]
  },
  {
   "cell_type": "code",
   "execution_count": 0,
   "metadata": {
    "application/vnd.databricks.v1+cell": {
     "cellMetadata": {},
     "inputWidgets": {},
     "nuid": "aec10172-eea4-4064-ae27-fbf16c1d68a8",
     "showTitle": false,
     "title": ""
    }
   },
   "outputs": [],
   "source": [
    "# columns_with_nan = df.columns[df.isnull().any()]\n",
    "\n",
    "# print(\"Columns with NaN values:\")\n",
    "# print(columns_with_nan)"
   ]
  },
  {
   "cell_type": "code",
   "execution_count": 0,
   "metadata": {
    "application/vnd.databricks.v1+cell": {
     "cellMetadata": {},
     "inputWidgets": {},
     "nuid": "2f096341-a41f-4a89-a04f-50ed48342212",
     "showTitle": false,
     "title": ""
    }
   },
   "outputs": [],
   "source": [
    "# import pandas as pd\n",
    "\n",
    "# # Assuming you have a DataFrame named 'df'\n",
    "# # Replace 'df' with your actual DataFrame name\n",
    "\n",
    "# # Iterate through each column\n",
    "# for column in df.columns:\n",
    "#     # Check if any value in the column contains a hyphen\n",
    "#     if df[column].astype(str).str.contains('-').any():\n",
    "#         print(f\"Column '{column}' contains values with a hyphen.\")"
   ]
  },
  {
   "cell_type": "code",
   "execution_count": 0,
   "metadata": {
    "application/vnd.databricks.v1+cell": {
     "cellMetadata": {},
     "inputWidgets": {},
     "nuid": "70fc2516-f9dc-4de1-a5b9-85be062654cd",
     "showTitle": false,
     "title": ""
    }
   },
   "outputs": [],
   "source": [
    "# column_values = df['FullAddress']\n",
    "\n",
    "# print(column_values)"
   ]
  }
 ],
 "metadata": {
  "application/vnd.databricks.v1+notebook": {
   "dashboards": [],
   "language": "python",
   "notebookMetadata": {},
   "notebookName": "Exploration-checkpoint",
   "widgets": {}
  },
  "kernelspec": {
   "display_name": "Python 3 (ipykernel)",
   "language": "python",
   "name": "python3"
  },
  "language_info": {
   "codemirror_mode": {
    "name": "ipython",
    "version": 3
   },
   "file_extension": ".py",
   "mimetype": "text/x-python",
   "name": "python",
   "nbconvert_exporter": "python",
   "pygments_lexer": "ipython3",
   "version": "3.11.3"
  },
  "vp": {
   "vp_config_version": "1.0.0",
   "vp_menu_width": 273,
   "vp_note_display": false,
   "vp_note_width": 0,
   "vp_position": {
    "width": 278
   },
   "vp_section_display": false,
   "vp_signature": "VisualPython"
  }
 },
 "nbformat": 4,
 "nbformat_minor": 0
}
