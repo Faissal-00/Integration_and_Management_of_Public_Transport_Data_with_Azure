{
 "cells": [
  {
   "cell_type": "code",
   "execution_count": 0,
   "metadata": {
    "application/vnd.databricks.v1+cell": {
     "cellMetadata": {},
     "inputWidgets": {},
     "nuid": "72fd77b5-be5d-4ea7-87a5-742591aa8372",
     "showTitle": false,
     "title": ""
    }
   },
   "outputs": [],
   "source": [
    "import pandas as pd\n",
    "import numpy as np\n",
    "import matplotlib.pyplot as plt"
   ]
  },
  {
   "cell_type": "code",
   "execution_count": 0,
   "metadata": {
    "application/vnd.databricks.v1+cell": {
     "cellMetadata": {},
     "inputWidgets": {},
     "nuid": "ecd636d9-db40-406a-a459-8192bb059e68",
     "showTitle": false,
     "title": ""
    }
   },
   "outputs": [],
   "source": [
    "df=pd.read_csv('public-transport-data.csv',encoding='UTF-8')\n",
    "df"
   ]
  },
  {
   "cell_type": "code",
   "execution_count": 0,
   "metadata": {
    "application/vnd.databricks.v1+cell": {
     "cellMetadata": {},
     "inputWidgets": {},
     "nuid": "8b41f515-3192-4abc-8c72-ea4a6730f63b",
     "showTitle": false,
     "title": ""
    }
   },
   "outputs": [],
   "source": [
    "df.columns"
   ]
  },
  {
   "cell_type": "code",
   "execution_count": 0,
   "metadata": {
    "application/vnd.databricks.v1+cell": {
     "cellMetadata": {},
     "inputWidgets": {},
     "nuid": "0a9717ed-523b-44f7-bdc8-912cf1a0b1f7",
     "showTitle": false,
     "title": ""
    }
   },
   "outputs": [],
   "source": [
    "# Check for duplicate 'ProductID' values\n",
    "duplicates = region[region.duplicated('RegionID', keep=False)]\n",
    "duplicates"
   ]
  },
  {
   "cell_type": "code",
   "execution_count": 0,
   "metadata": {
    "application/vnd.databricks.v1+cell": {
     "cellMetadata": {},
     "inputWidgets": {},
     "nuid": "3c0e070d-ab86-4834-a3a9-0305d9cadce6",
     "showTitle": false,
     "title": ""
    }
   },
   "outputs": [],
   "source": [
    "tt = weathermetrics[weathermetrics['AverageTemperature'] <= -10]\n",
    "tt"
   ]
  },
  {
   "cell_type": "code",
   "execution_count": 0,
   "metadata": {
    "application/vnd.databricks.v1+cell": {
     "cellMetadata": {},
     "inputWidgets": {},
     "nuid": "1496b497-e997-4455-8cae-119348199905",
     "showTitle": false,
     "title": ""
    }
   },
   "outputs": [],
   "source": [
    "weathermetrics.describe()"
   ]
  },
  {
   "cell_type": "code",
   "execution_count": 0,
   "metadata": {
    "application/vnd.databricks.v1+cell": {
     "cellMetadata": {},
     "inputWidgets": {},
     "nuid": "9f69bbd1-c537-4b56-bf33-6313bf3d5b63",
     "showTitle": false,
     "title": ""
    }
   },
   "outputs": [],
   "source": [
    "print(df.isnull().sum(axis=0))"
   ]
  },
  {
   "cell_type": "code",
   "execution_count": 0,
   "metadata": {
    "application/vnd.databricks.v1+cell": {
     "cellMetadata": {},
     "inputWidgets": {},
     "nuid": "b50387fd-ba47-4304-8219-efaab88e053d",
     "showTitle": false,
     "title": ""
    }
   },
   "outputs": [],
   "source": [
    "# Create a condition to filter rows\n",
    "condition = (df['Age'] < 13) | (df['Age'] > 87)\n",
    "\n",
    "# Apply the condition to the DataFrame and count the rows\n",
    "count_of_rows = len(df[condition])\n",
    "\n",
    "print(\"Number of rows with age < 13 or age > 87:\", count_of_rows)"
   ]
  },
  {
   "cell_type": "code",
   "execution_count": 0,
   "metadata": {
    "application/vnd.databricks.v1+cell": {
     "cellMetadata": {},
     "inputWidgets": {},
     "nuid": "40aa35ba-2d57-4515-8258-a5044d913a4d",
     "showTitle": false,
     "title": ""
    },
    "scrolled": false
   },
   "outputs": [],
   "source": [
    "columns=df.columns.tolist()\n",
    "df[columns[:14]]"
   ]
  },
  {
   "cell_type": "code",
   "execution_count": 0,
   "metadata": {
    "application/vnd.databricks.v1+cell": {
     "cellMetadata": {},
     "inputWidgets": {},
     "nuid": "4e34692d-4640-404b-aca6-6b18a75c538f",
     "showTitle": false,
     "title": ""
    }
   },
   "outputs": [],
   "source": [
    "import pandas as pd\n",
    "\n",
    "# Assuming you have your data loaded into a DataFrame called 'df'\n",
    "# Check for duplicate 'ProductID' values\n",
    "duplicates = df[df.duplicated('ProductID', keep=False)]\n",
    "duplicates"
   ]
  },
  {
   "cell_type": "code",
   "execution_count": 0,
   "metadata": {
    "application/vnd.databricks.v1+cell": {
     "cellMetadata": {},
     "inputWidgets": {},
     "nuid": "1b463b8c-f3f0-4921-b20b-5d80e778249f",
     "showTitle": false,
     "title": ""
    }
   },
   "outputs": [],
   "source": [
    "com = df['ProductID'].nunique()\n",
    "com"
   ]
  },
  {
   "cell_type": "code",
   "execution_count": 0,
   "metadata": {
    "application/vnd.databricks.v1+cell": {
     "cellMetadata": {},
     "inputWidgets": {},
     "nuid": "fc55df72-68ac-489c-85fe-af3f4c0b3588",
     "showTitle": false,
     "title": ""
    }
   },
   "outputs": [],
   "source": [
    "uni = df.groupby('ProductID')['Price'].unique()\n",
    "uni"
   ]
  },
  {
   "cell_type": "code",
   "execution_count": 0,
   "metadata": {
    "application/vnd.databricks.v1+cell": {
     "cellMetadata": {},
     "inputWidgets": {},
     "nuid": "154050a1-79dd-4643-9bb2-3a6931207648",
     "showTitle": false,
     "title": ""
    }
   },
   "outputs": [],
   "source": [
    "uni = df.groupby('WarehouseID')['InventoryID'].unique()\n",
    "uni"
   ]
  },
  {
   "cell_type": "code",
   "execution_count": 0,
   "metadata": {
    "application/vnd.databricks.v1+cell": {
     "cellMetadata": {},
     "inputWidgets": {},
     "nuid": "6f3c8b95-eade-4d9b-aa74-426fe6982465",
     "showTitle": false,
     "title": ""
    }
   },
   "outputs": [],
   "source": [
    "uni = df.groupby('WarehouseID')['InventoryID'].unique()\n",
    "uni"
   ]
  },
  {
   "cell_type": "code",
   "execution_count": 0,
   "metadata": {
    "application/vnd.databricks.v1+cell": {
     "cellMetadata": {},
     "inputWidgets": {},
     "nuid": "c66e26ec-16c1-41da-a9c1-cee60bb83053",
     "showTitle": false,
     "title": ""
    }
   },
   "outputs": [],
   "source": [
    "columns=df.columns.tolist()\n",
    "df[columns[14:]]"
   ]
  },
  {
   "cell_type": "code",
   "execution_count": 0,
   "metadata": {
    "application/vnd.databricks.v1+cell": {
     "cellMetadata": {},
     "inputWidgets": {},
     "nuid": "6d782d63-379f-4070-856f-7667129fbe07",
     "showTitle": false,
     "title": ""
    }
   },
   "outputs": [],
   "source": [
    "name = df[df['ShippingMethode'] == 'Nan']\n",
    "name"
   ]
  },
  {
   "cell_type": "code",
   "execution_count": 0,
   "metadata": {
    "application/vnd.databricks.v1+cell": {
     "cellMetadata": {},
     "inputWidgets": {},
     "nuid": "bab67dd0-8465-4b0a-9e98-c2efd7a146ff",
     "showTitle": false,
     "title": ""
    }
   },
   "outputs": [],
   "source": [
    "unique_values_count = df['LocationWarehouse'].nunique()\n",
    "unique_values_count"
   ]
  },
  {
   "cell_type": "code",
   "execution_count": 0,
   "metadata": {
    "application/vnd.databricks.v1+cell": {
     "cellMetadata": {},
     "inputWidgets": {},
     "nuid": "59ac8064-e4c1-40db-859d-929b30dd21c5",
     "showTitle": false,
     "title": ""
    }
   },
   "outputs": [],
   "source": [
    "duplicates = df[df['Location'].duplicated(keep=False)]\n",
    "\n",
    "duplicate_names = duplicates['Location'].unique()\n",
    "\n",
    "duplicates"
   ]
  },
  {
   "cell_type": "code",
   "execution_count": 0,
   "metadata": {
    "application/vnd.databricks.v1+cell": {
     "cellMetadata": {},
     "inputWidgets": {},
     "nuid": "6d393d3b-4c89-45c7-9975-b7f2d36db396",
     "showTitle": false,
     "title": ""
    }
   },
   "outputs": [],
   "source": [
    "# aa=df['UserSegment'].unique()\n",
    "# aa"
   ]
  },
  {
   "cell_type": "code",
   "execution_count": 0,
   "metadata": {
    "application/vnd.databricks.v1+cell": {
     "cellMetadata": {},
     "inputWidgets": {},
     "nuid": "6d6d768b-6c3a-4bb3-aa1e-0f8050ed7f29",
     "showTitle": false,
     "title": ""
    }
   },
   "outputs": [],
   "source": [
    "# zero = df[df['Price'] == 0].shape\n",
    "# zero"
   ]
  },
  {
   "cell_type": "code",
   "execution_count": 0,
   "metadata": {
    "application/vnd.databricks.v1+cell": {
     "cellMetadata": {},
     "inputWidgets": {},
     "nuid": "5f8bd3ee-d157-4754-8e5b-fc38948f63d8",
     "showTitle": false,
     "title": ""
    }
   },
   "outputs": [],
   "source": [
    "# zero = df[df['Quantity'] == 0]\n",
    "# zero"
   ]
  },
  {
   "cell_type": "code",
   "execution_count": 0,
   "metadata": {
    "application/vnd.databricks.v1+cell": {
     "cellMetadata": {},
     "inputWidgets": {},
     "nuid": "416d8fa5-58ad-443f-b2c5-ac322bf3a566",
     "showTitle": false,
     "title": ""
    },
    "scrolled": false
   },
   "outputs": [],
   "source": [
    "# lap = df[df['Product Name'] == 'LaptopPro']\n",
    "# lap"
   ]
  },
  {
   "cell_type": "code",
   "execution_count": 0,
   "metadata": {
    "application/vnd.databricks.v1+cell": {
     "cellMetadata": {},
     "inputWidgets": {},
     "nuid": "1f6d7172-6c4f-4f53-baee-8bb29632138b",
     "showTitle": false,
     "title": ""
    }
   },
   "outputs": [],
   "source": [
    "# # Sort the DataFrame by the 'Name' column\n",
    "# df_sorted = df.sort_values(by='Name')\n",
    "# df_sorted"
   ]
  },
  {
   "cell_type": "code",
   "execution_count": 0,
   "metadata": {
    "application/vnd.databricks.v1+cell": {
     "cellMetadata": {},
     "inputWidgets": {},
     "nuid": "1bf54b77-a4a5-4433-ba76-a191cc08e02a",
     "showTitle": false,
     "title": ""
    },
    "scrolled": false
   },
   "outputs": [],
   "source": [
    "# duplicates = df[df['Name'].duplicated(keep=False)]\n",
    "\n",
    "# duplicate_names = duplicates['Name'].unique()\n",
    "\n",
    "# filtered_rows = df[df['Name'].isin(duplicate_names)]\n",
    "\n",
    "# filtered_rows"
   ]
  },
  {
   "cell_type": "code",
   "execution_count": 0,
   "metadata": {
    "application/vnd.databricks.v1+cell": {
     "cellMetadata": {},
     "inputWidgets": {},
     "nuid": "16c690f9-adea-459c-b3fc-9e316804fadf",
     "showTitle": false,
     "title": ""
    }
   },
   "outputs": [],
   "source": [
    "# import matplotlib.pyplot as plt\n",
    "# # Replace 'Age' with the name of the column you want to check for outliers\n",
    "# column_name = 'Price'\n",
    "\n",
    "# # Create a scatter plot to visualize outliers\n",
    "# plt.figure(figsize=(8, 6))\n",
    "# plt.scatter(range(len(df[column_name])), df[column_name])\n",
    "# plt.title(f'Scatter Plot of {column_name}')\n",
    "# plt.xlabel('Index')\n",
    "# plt.ylabel(column_name)\n",
    "# plt.show()"
   ]
  },
  {
   "cell_type": "code",
   "execution_count": 0,
   "metadata": {
    "application/vnd.databricks.v1+cell": {
     "cellMetadata": {},
     "inputWidgets": {},
     "nuid": "a81e24ce-8298-4e74-bdf1-ed9694e3b57e",
     "showTitle": false,
     "title": ""
    }
   },
   "outputs": [],
   "source": [
    "# filtered_rows = df[df['Age'] < 100 ]\n",
    "# filtered_rows"
   ]
  },
  {
   "cell_type": "code",
   "execution_count": 0,
   "metadata": {
    "application/vnd.databricks.v1+cell": {
     "cellMetadata": {},
     "inputWidgets": {},
     "nuid": "eaa5ba16-2261-4162-9fa6-ad21429c6aeb",
     "showTitle": false,
     "title": ""
    }
   },
   "outputs": [],
   "source": [
    "# columns_with_nan = df.columns[df.isnull().any()]\n",
    "\n",
    "# print(\"Columns with NaN values:\")\n",
    "# print(columns_with_nan)"
   ]
  },
  {
   "cell_type": "code",
   "execution_count": 0,
   "metadata": {
    "application/vnd.databricks.v1+cell": {
     "cellMetadata": {},
     "inputWidgets": {},
     "nuid": "62946343-7af0-4475-96cb-f570cd4fd545",
     "showTitle": false,
     "title": ""
    }
   },
   "outputs": [],
   "source": [
    "# import pandas as pd\n",
    "\n",
    "# # Assuming you have a DataFrame named 'df'\n",
    "# # Replace 'df' with your actual DataFrame name\n",
    "\n",
    "# # Iterate through each column\n",
    "# for column in df.columns:\n",
    "#     # Check if any value in the column contains a hyphen\n",
    "#     if df[column].astype(str).str.contains('-').any():\n",
    "#         print(f\"Column '{column}' contains values with a hyphen.\")"
   ]
  },
  {
   "cell_type": "code",
   "execution_count": 0,
   "metadata": {
    "application/vnd.databricks.v1+cell": {
     "cellMetadata": {},
     "inputWidgets": {},
     "nuid": "b210d1be-cab5-44de-b387-198db642a682",
     "showTitle": false,
     "title": ""
    }
   },
   "outputs": [],
   "source": [
    "# column_values = df['FullAddress']\n",
    "\n",
    "# print(column_values)"
   ]
  }
 ],
 "metadata": {
  "application/vnd.databricks.v1+notebook": {
   "dashboards": [],
   "language": "python",
   "notebookMetadata": {},
   "notebookName": "Exploration",
   "widgets": {}
  },
  "kernelspec": {
   "display_name": "Python 3 (ipykernel)",
   "language": "python",
   "name": "python3"
  },
  "language_info": {
   "codemirror_mode": {
    "name": "ipython",
    "version": 3
   },
   "file_extension": ".py",
   "mimetype": "text/x-python",
   "name": "python",
   "nbconvert_exporter": "python",
   "pygments_lexer": "ipython3",
   "version": "3.11.3"
  },
  "vp": {
   "vp_config_version": "1.0.0",
   "vp_menu_width": 273,
   "vp_note_display": false,
   "vp_note_width": 0,
   "vp_position": {
    "width": 278
   },
   "vp_section_display": false,
   "vp_signature": "VisualPython"
  }
 },
 "nbformat": 4,
 "nbformat_minor": 0
}
